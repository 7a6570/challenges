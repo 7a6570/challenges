{
 "cells": [
  {
   "cell_type": "code",
   "execution_count": 1,
   "metadata": {},
   "outputs": [],
   "source": [
    "from keystone import *\n",
    "from unicorn import *\n",
    "from unicorn.x86_const import *\n",
    "import pandas as pd\n",
    "from tqdm import tqdm\n",
    "from IPython.core.debugger import set_trace\n",
    "from capstone import *\n",
    "\n",
    "md = Cs(CS_ARCH_X86, CS_MODE_64)\n",
    "ks = Ks(KS_ARCH_X86, KS_MODE_64)"
   ]
  },
  {
   "cell_type": "code",
   "execution_count": 8,
   "metadata": {},
   "outputs": [],
   "source": [
    "# memory address where emulation starts\n",
    "ADDRESS = 0x0\n",
    "code=bytes.fromhex(\"48b8d8cfce84dac3c6c648890748b8ead9ddc3d9d9c9c54889470848b8c784c9c5c7000000488947104831c98a040f34aa88040f48ffc14883f91575ef\")"
   ]
  },
  {
   "cell_type": "code",
   "execution_count": 4,
   "metadata": {},
   "outputs": [
    {
     "name": "stdout",
     "output_type": "stream",
     "text": [
      "0x1000:\tmovabs\trax, 0xc6c6c3da84cecfd8\n",
      "0x100a:\tmov\tqword ptr [rdi], rax\n",
      "0x100d:\tmovabs\trax, 0xc5c9d9d9c3ddd9ea\n",
      "0x1017:\tmov\tqword ptr [rdi + 8], rax\n",
      "0x101b:\tmovabs\trax, 0xc7c5c984c7\n",
      "0x1025:\tmov\tqword ptr [rdi + 0x10], rax\n",
      "0x1029:\txor\trcx, rcx\n",
      "0x102c:\tmov\tal, byte ptr [rdi + rcx]\n",
      "0x102f:\txor\tal, 0xaa\n",
      "0x1031:\tmov\tbyte ptr [rdi + rcx], al\n",
      "0x1034:\tinc\trcx\n",
      "0x1037:\tcmp\trcx, 0x15\n",
      "0x103b:\tjne\t0x102c\n"
     ]
    }
   ],
   "source": [
    "for i in md.disasm(code, 0x1000):\n",
    "    print(\"0x%x:\\t%s\\t%s\" %(i.address, i.mnemonic, i.op_str))"
   ]
  },
  {
   "cell_type": "code",
   "execution_count": 13,
   "metadata": {},
   "outputs": [],
   "source": [
    "def read_string(uc, address):\n",
    "    ret = \"\"\n",
    "    c = uc.mem_read(address, 1)[0]\n",
    "    read_bytes = 1\n",
    "\n",
    "    while c != 0x0:\n",
    "        ret += chr(c)\n",
    "        c = uc.mem_read(address + read_bytes, 1)[0]\n",
    "        read_bytes += 1\n",
    "    return ret\n",
    "\n",
    "def emulate(code):\n",
    "\n",
    "    try:\n",
    "        # Initialize emulator\n",
    "        mu = Uc(UC_ARCH_X86, UC_MODE_64)\n",
    "\n",
    "        # map 2MB memory for this emulation\n",
    "        mu.mem_map(ADDRESS, 2 * 1024 * 1024)\n",
    "\n",
    "        # write machine code to be emulated to memory\n",
    "        mu.mem_write(ADDRESS, code)\n",
    "\n",
    "        # initialize stack\n",
    "        mu.reg_write(UC_X86_REG_ESP, ADDRESS + 0x100000)\n",
    "\n",
    "        # tracing all basic blocks with customized callback\n",
    "        #mu.hook_add(UC_HOOK_BLOCK, hook_block)\n",
    "\n",
    "        # tracing all instructions with customized callback\n",
    "        #mu.hook_add(UC_HOOK_CODE, hook_code)\n",
    "\n",
    "        # handle interrupt ourself\n",
    "        #mu.hook_add(UC_HOOK_INTR, hook_intr)\n",
    "\n",
    "        # handle SYSCALL\n",
    "        #mu.hook_add(UC_HOOK_INSN, hook_syscall32, None, 1, 0, UC_X86_INS_SYSCALL)\n",
    "\n",
    "        # set key candiate to ESI\n",
    "        #mu.reg_write(UC_X86_REG_ESI, key_canidate)\n",
    "        \n",
    "        # emulate machine code in infinite time\n",
    "        mu.emu_start(ADDRESS, ADDRESS + len(code))\n",
    "\n",
    "        # now print out some registers\n",
    "        print(\">>> Emulation done\")\n",
    "\n",
    "        print(read_string(mu, 0))\n",
    "        \n",
    "    except UcError as e:\n",
    "        print(\"ERROR: %s\" % e)"
   ]
  },
  {
   "cell_type": "code",
   "execution_count": 14,
   "metadata": {},
   "outputs": [
    {
     "name": "stdout",
     "output_type": "stream",
     "text": [
      ">>> Emulation done\n",
      "red.pill@swisscom.com\n"
     ]
    }
   ],
   "source": [
    "emulate(code)"
   ]
  },
  {
   "cell_type": "code",
   "execution_count": null,
   "metadata": {},
   "outputs": [],
   "source": []
  }
 ],
 "metadata": {
  "kernelspec": {
   "display_name": "Python 3",
   "language": "python",
   "name": "python3"
  },
  "language_info": {
   "codemirror_mode": {
    "name": "ipython",
    "version": 3
   },
   "file_extension": ".py",
   "mimetype": "text/x-python",
   "name": "python",
   "nbconvert_exporter": "python",
   "pygments_lexer": "ipython3",
   "version": "3.9.1"
  }
 },
 "nbformat": 4,
 "nbformat_minor": 4
}
